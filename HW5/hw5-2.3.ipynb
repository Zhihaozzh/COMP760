{
 "cells": [
  {
   "cell_type": "code",
   "execution_count": 1,
   "id": "ad3cd29c",
   "metadata": {},
   "outputs": [],
   "source": [
    "import numpy as np\n",
    "import pandas as pd\n",
    "import matplotlib.pyplot as plt"
   ]
  },
  {
   "cell_type": "code",
   "execution_count": 2,
   "id": "20847212",
   "metadata": {},
   "outputs": [],
   "source": [
    "def error(x1, x2):\n",
    "    return np.sum((x1-x2)**2)"
   ]
  },
  {
   "cell_type": "code",
   "execution_count": 3,
   "id": "b1444c16",
   "metadata": {},
   "outputs": [],
   "source": [
    "class PCA():\n",
    "    def __init__(self, X, d=1):\n",
    "        self.X = X\n",
    "        self.n = X.shape[0]\n",
    "        self.d = d\n",
    "        \n",
    "    def Buggy_PCA(self, X):\n",
    "        U, S, Vh = np.linalg.svd(X, full_matrices=False)\n",
    "#         low_dim_rpt = U[:, :self.d] @ np.diag(S[:self.d]) @ Vh[:self.d, :]   \n",
    "        low_dim_rpt = X @ Vh[:self.d, :].T\n",
    "        reconst = low_dim_rpt @ Vh[:self.d, :]\n",
    "        \n",
    "        return low_dim_rpt, reconst\n",
    "    \n",
    "    def Demeaned_PCA(self):\n",
    "        mean = np.mean(self.X, axis=0)\n",
    "        X_demean = self.X - mean\n",
    "        low_dim_rpt, reconst_demean = self.Buggy_PCA(X_demean)    \n",
    "        reconst = reconst_demean + mean\n",
    "        \n",
    "        return low_dim_rpt, reconst\n",
    "    \n",
    "    def Normalized_PCA(self):\n",
    "        mean = np.mean(self.X, axis=0)  # Calculate the mean of each column\n",
    "        std = np.std(self.X, axis=0)    # Calculate the standard deviation of each column\n",
    "        X_standardized = (self.X - mean) / std\n",
    "        low_dim_rpt, reconst_normal = self.Buggy_PCA(X_standardized)\n",
    "        reconst = reconst_normal * std + mean\n",
    "        \n",
    "        return low_dim_rpt, reconst"
   ]
  },
  {
   "cell_type": "code",
   "execution_count": null,
   "id": "5dd9e645",
   "metadata": {},
   "outputs": [],
   "source": [
    "##### abandoned version (same as Buggy PCA) ##############\n",
    "\n",
    "# def DRO(X, d=1):\n",
    "#     n = X.shape[0]\n",
    "#     U, S, Vh = np.linalg.svd(X, full_matrices=False)\n",
    "#     X_d = U[:, :d] @ np.diag(S[:d]) @ Vh[:d, :]\n",
    "    \n",
    "#     b = np.mean(X_d, axis=0)\n",
    "#     X_d_new = (X_d - b)/np.sqrt(n)\n",
    "#     U_new, S_new, Vh_new = np.linalg.svd(X_d_new, full_matrices=False)\n",
    "    \n",
    "#     Z = np.sqrt(n) * U_new\n",
    "#     A = Vh_new.T @ np.diag(S_new[:]) \n",
    "    \n",
    "#     ones = np.array([np.ones(n)]).T\n",
    "#     reconst = Z @ A.T + ones @ np.array([b])\n",
    "    \n",
    "#     return Z, reconst, A, b"
   ]
  },
  {
   "cell_type": "code",
   "execution_count": 4,
   "id": "1778cb58",
   "metadata": {},
   "outputs": [],
   "source": [
    "########### abandoned version (computational redundance) ##############\n",
    "# def DRO(X, d=1):\n",
    "#     n = X.shape[0]\n",
    "#     b = np.mean(X, axis=0)\n",
    "#     X_demean = X - b\n",
    "#     U, S, Vh = np.linalg.svd(X_demean, full_matrices=False)\n",
    "#     Vh_d =  Vh[:d, :]\n",
    "    \n",
    "#     Lambda = Vh_d @ X_demean.T @ X_demean @ Vh_d.T\n",
    "#     Lambda_temp = np.linalg.inv(np.sqrt(Lambda))\n",
    "    \n",
    "#     Z = np.sqrt(n) * X_demean @ Vh_d.T @ Lambda_temp\n",
    "#     A = X_demean.T @ X_demean @ Vh_d.T @ Lambda_temp / np.sqrt(n)\n",
    "    \n",
    "#     ones = np.array([np.ones(n)]).T\n",
    "#     reconst = Z @ A.T + ones @ np.array([b])\n",
    "    \n",
    "#     return Z, reconst, A, b"
   ]
  },
  {
   "cell_type": "code",
   "execution_count": 4,
   "id": "c59eaa93",
   "metadata": {},
   "outputs": [],
   "source": [
    "def DRO(X, d=1):\n",
    "    n = X.shape[0]\n",
    "    b = np.mean(X, axis=0)\n",
    "    X_demean = X - b\n",
    "    U, S, Vh = np.linalg.svd(X_demean, full_matrices=False)\n",
    "    U_d = U[:, :d]\n",
    "    S_d = np.diag(S[:d])\n",
    "    Vh_d =  Vh[:d, :]\n",
    "    \n",
    "    Z = np.sqrt(n) * U_d\n",
    "    A = Vh_d.T @ S_d / np.sqrt(n)\n",
    "    \n",
    "    ones = np.array([np.ones(n)]).T\n",
    "    reconst = Z @ A.T + ones @ np.array([b])\n",
    "    \n",
    "    return Z, reconst, A, b"
   ]
  },
  {
   "cell_type": "code",
   "execution_count": 5,
   "id": "3ac361e1",
   "metadata": {},
   "outputs": [],
   "source": [
    "###### data2D.csv\n",
    "D2 = pd.read_csv(\"data2D.csv\", sep=\",\", header = None)\n",
    "D2 = D2.to_numpy()"
   ]
  },
  {
   "cell_type": "code",
   "execution_count": 6,
   "id": "7918dc4a",
   "metadata": {},
   "outputs": [],
   "source": [
    "pca = PCA(X=D2, d=1)\n",
    "\n",
    "_, X_hat_Buggy = pca.Buggy_PCA(D2)\n",
    "_, X_hat_Demean = pca.Demeaned_PCA()\n",
    "_, X_hat_Normalize = pca.Normalized_PCA()\n",
    "\n",
    "_, X_hat_DRO, _, _ = DRO(D2)"
   ]
  },
  {
   "cell_type": "code",
   "execution_count": 23,
   "id": "31a54318",
   "metadata": {},
   "outputs": [
    {
     "data": {
      "image/png": "[encoded data removed]",
      "text/plain": [
       "<Figure size 1000x1000 with 4 Axes>"
      ]
     },
     "metadata": {},
     "output_type": "display_data"
    }
   ],
   "source": [
    "#fig = plt.figure(figsize=(5, 5))\n",
    "fig, axis = plt.subplots(nrows=2, ncols=2, figsize=(10, 10))\n",
    "\n",
    "ax0 = axis[0, 0]\n",
    "ax0.scatter(D2[:,0], D2[:,1],label = \"original data\")\n",
    "ax0.scatter(X_hat_Buggy[:,0], X_hat_Buggy[:,1], marker = '+', color = 'orange',label=\"reconstructed data\")\n",
    "ax0.set_xlim((3, 10))\n",
    "ax0.set_ylim((3, 10))\n",
    "ax0.legend(loc='best')\n",
    "ax0.set_title('Buggy_PCA')\n",
    "\n",
    "ax1 = axis[0, 1]\n",
    "ax1.scatter(D2[:,0], D2[:,1],label = \"original data\")\n",
    "ax1.scatter(X_hat_Demean[:,0], X_hat_Demean[:,1], marker = '+', color = 'orange',label=\"reconstructed data\")\n",
    "ax1.set_xlim((3, 10))\n",
    "ax1.set_ylim((3, 10))\n",
    "ax1.legend(loc='best')\n",
    "ax1.set_title('Demeaned_PCA')\n",
    "\n",
    "ax2 = axis[1, 0]\n",
    "ax2.scatter(D2[:,0], D2[:,1],label = \"original data\")\n",
    "ax2.scatter(X_hat_Normalize[:,0], X_hat_Normalize[:,1], marker = '+', color = 'orange',label=\"reconstructed data\")\n",
    "ax2.set_xlim((3, 10))\n",
    "ax2.set_ylim((3, 10))\n",
    "ax2.legend(loc='best')\n",
    "ax2.set_title('Normalized_PCA')\n",
    "\n",
    "ax3 = axis[1, 1]\n",
    "ax3.scatter(D2[:,0], D2[:,1],label = \"original data\")\n",
    "ax3.scatter(X_hat_DRO[:,0], X_hat_DRO[:,1], marker = '+', color = 'orange',label=\"reconstructed data\")\n",
    "ax3.set_xlim((3, 10))\n",
    "ax3.set_ylim((3, 10))\n",
    "ax3.legend(loc='best')\n",
    "ax3.set_title('DRO')\n",
    "\n",
    "plt.show()\n"
   ]
  },
  {
   "cell_type": "code",
   "execution_count": 8,
   "id": "908fed32",
   "metadata": {},
   "outputs": [
    {
     "name": "stdout",
     "output_type": "stream",
     "text": [
      "Buggy PCA error =  0.8869030837347942\n",
      "Demeaned PCA error =  0.010006085628512906\n",
      "Normalized PCA error =  0.04947208345477067\n",
      "DRO error =  0.010006085628512911\n"
     ]
    }
   ],
   "source": [
    "n = D2.shape[0]\n",
    "Buggy_error = error(D2, X_hat_Buggy)/n\n",
    "Demean_error = error(D2, X_hat_Demean)/n\n",
    "Normalize_error = error(D2, X_hat_Normalize)/n\n",
    "DRO_error = error(D2, X_hat_DRO)/n\n",
    "\n",
    "print(\"Buggy PCA error = \", Buggy_error)\n",
    "print(\"Demeaned PCA error = \", Demean_error)\n",
    "print(\"Normalized PCA error = \", Normalize_error)\n",
    "print(\"DRO error = \", DRO_error)"
   ]
  },
  {
   "cell_type": "code",
   "execution_count": 11,
   "id": "b4ab7940",
   "metadata": {},
   "outputs": [],
   "source": [
    "###### data2D.csv\n",
    "D1000 = pd.read_csv(\"data1000D.csv\", sep=\",\", header = None)\n",
    "#D1000\n",
    "D1000 = D1000.to_numpy()"
   ]
  },
  {
   "cell_type": "code",
   "execution_count": 13,
   "id": "06b690d0",
   "metadata": {},
   "outputs": [
    {
     "data": {
      "text/plain": [
       "array([[ 1.33168104e+01,  2.90287802e+00,  1.38870348e+01, ...,\n",
       "         2.22139385e+01,  2.64470131e+01,  1.37326379e+01],\n",
       "       [ 1.30543587e+01,  1.03359739e+01,  1.38135916e+01, ...,\n",
       "         2.18243147e+01,  2.48470775e+01,  1.05123768e+01],\n",
       "       [ 8.10029873e+00,  1.48301692e+01,  1.11557492e+01, ...,\n",
       "         2.09040550e+01,  2.51160597e+01,  7.13864040e+00],\n",
       "       ...,\n",
       "       [ 1.27980811e+01,  3.87267740e+00,  1.49498396e+01, ...,\n",
       "         2.01927154e+01,  2.08078592e+01,  1.31894303e+01],\n",
       "       [ 9.65246243e+00, -5.40115960e+00,  9.67989551e+00, ...,\n",
       "         1.86843981e+01,  3.38934238e+01,  9.60106349e+00],\n",
       "       [-6.69259823e-04, -7.92208010e+00,  2.80317271e+01, ...,\n",
       "         1.06673121e+01,  1.49384409e+01,  1.51857918e+01]])"
      ]
     },
     "execution_count": 13,
     "metadata": {},
     "output_type": "execute_result"
    }
   ],
   "source": [
    "D1000"
   ]
  },
  {
   "cell_type": "code",
   "execution_count": 42,
   "id": "53bd7346",
   "metadata": {},
   "outputs": [
    {
     "data": {
      "image/png": "[encoded data removed]",
      "text/plain": [
       "<Figure size 1000x600 with 1 Axes>"
      ]
     },
     "metadata": {},
     "output_type": "display_data"
    }
   ],
   "source": [
    "D = D1000.shape[0]\n",
    "mean = np.mean(D1000, axis=0)\n",
    "_, S, _ = np.linalg.svd(D1000-mean , full_matrices=False)\n",
    "\n",
    "proportion = ([S[i]**2 for i in range(D)])/np.sum(S**2)\n",
    "\n",
    "plt.figure(figsize=(10, 6))\n",
    "plt.plot(range(1,D+1), proportion*100, linestyle='-',marker = 'o',markersize = 3)\n",
    "plt.plot(30, proportion[29]*100, marker = 'o', mfc='none', color='red', markersize = 10)\n",
    "plt.xlim(xmin=0, xmax=502)\n",
    "plt.xlabel('Eigenvalue order')\n",
    "plt.ylabel('Variance (%)')\n",
    "plt.show()"
   ]
  },
  {
   "cell_type": "code",
   "execution_count": 39,
   "id": "cbd87e21",
   "metadata": {
    "scrolled": true
   },
   "outputs": [
    {
     "data": {
      "text/plain": [
       "array([5.54531000e+00, 5.45279351e+00, 4.94070843e+00, 4.54551125e+00,\n",
       "       4.54348551e+00, 4.42017538e+00, 4.08360639e+00, 3.84032651e+00,\n",
       "       3.81267004e+00, 3.70114765e+00, 3.66493935e+00, 3.54666635e+00,\n",
       "       3.33854406e+00, 3.20246215e+00, 3.16987381e+00, 3.12717540e+00,\n",
       "       3.03218005e+00, 2.94024739e+00, 2.86450805e+00, 2.77302690e+00,\n",
       "       2.69594544e+00, 2.54044151e+00, 2.47468754e+00, 2.37525431e+00,\n",
       "       2.25497438e+00, 2.20088440e+00, 2.13602355e+00, 2.09560407e+00,\n",
       "       1.97387984e+00, 1.78656068e+00, 5.56303264e-03, 5.48052179e-03,\n",
       "       5.35966668e-03, 5.30661072e-03, 5.28510609e-03, 5.20361382e-03,\n",
       "       5.17343604e-03, 5.10899570e-03, 5.09599966e-03, 5.07618547e-03,\n",
       "       5.02087627e-03, 5.00579314e-03, 4.96391363e-03, 4.94534127e-03,\n",
       "       4.88344601e-03, 4.86717316e-03, 4.82030535e-03, 4.80919741e-03,\n",
       "       4.74834743e-03, 4.72992408e-03, 4.71895570e-03, 4.69769261e-03,\n",
       "       4.67511804e-03, 4.64491211e-03, 4.59110087e-03, 4.57959988e-03,\n",
       "       4.52702529e-03, 4.52573374e-03, 4.48964896e-03, 4.48379639e-03,\n",
       "       4.46414763e-03, 4.43768079e-03, 4.42670730e-03, 4.39555502e-03,\n",
       "       4.34721771e-03, 4.33118333e-03, 4.31347736e-03, 4.28111497e-03,\n",
       "       4.25234562e-03, 4.24052824e-03, 4.23296150e-03, 4.20746749e-03,\n",
       "       4.17866504e-03, 4.14628914e-03, 4.13340268e-03, 4.11631399e-03,\n",
       "       4.09875011e-03, 4.06790097e-03, 4.03531210e-03, 4.01911380e-03,\n",
       "       4.00281250e-03, 3.98362606e-03, 3.96524817e-03, 3.92161445e-03,\n",
       "       3.91725232e-03, 3.90707736e-03, 3.87104932e-03, 3.85886318e-03,\n",
       "       3.83180440e-03, 3.82538966e-03, 3.79477688e-03, 3.76776818e-03,\n",
       "       3.75359508e-03, 3.73435148e-03, 3.72945864e-03, 3.71399520e-03,\n",
       "       3.69335635e-03, 3.69047177e-03, 3.67917865e-03, 3.63333633e-03,\n",
       "       3.62337966e-03, 3.60048294e-03, 3.58783584e-03, 3.55161910e-03,\n",
       "       3.54592450e-03, 3.54298488e-03, 3.52264583e-03, 3.50308215e-03,\n",
       "       3.49242183e-03, 3.45949649e-03, 3.44642300e-03, 3.43317342e-03,\n",
       "       3.41651649e-03, 3.40531650e-03, 3.40351947e-03, 3.38137888e-03,\n",
       "       3.35865324e-03, 3.34098672e-03, 3.31201425e-03, 3.29574376e-03,\n",
       "       3.28603056e-03, 3.27236980e-03, 3.24860289e-03, 3.24543444e-03,\n",
       "       3.22764338e-03, 3.21697405e-03, 3.19592221e-03, 3.19102422e-03,\n",
       "       3.17268095e-03, 3.15141797e-03, 3.13976944e-03, 3.12714295e-03,\n",
       "       3.11929521e-03, 3.10699546e-03, 3.08812454e-03, 3.05145029e-03,\n",
       "       3.03372168e-03, 3.01878386e-03, 3.01476211e-03, 3.00724267e-03,\n",
       "       2.98796751e-03, 2.97098493e-03, 2.96422511e-03, 2.95879765e-03,\n",
       "       2.93825900e-03, 2.91260983e-03, 2.90802276e-03, 2.89514617e-03,\n",
       "       2.88725575e-03, 2.85969144e-03, 2.84843030e-03, 2.84289558e-03,\n",
       "       2.81679599e-03, 2.79976035e-03, 2.78609008e-03, 2.77611042e-03,\n",
       "       2.76863801e-03, 2.75916321e-03, 2.74752789e-03, 2.74621883e-03,\n",
       "       2.71426743e-03, 2.70744788e-03, 2.69805709e-03, 2.68566229e-03,\n",
       "       2.66522348e-03, 2.66224174e-03, 2.65654668e-03, 2.64695368e-03,\n",
       "       2.63136044e-03, 2.61166479e-03, 2.60352341e-03, 2.59004627e-03,\n",
       "       2.57827797e-03, 2.57011763e-03, 2.56631709e-03, 2.53443962e-03,\n",
       "       2.52181358e-03, 2.51565401e-03, 2.50319828e-03, 2.49278100e-03,\n",
       "       2.46353836e-03, 2.46050547e-03, 2.45334225e-03, 2.43469006e-03,\n",
       "       2.43152159e-03, 2.42609777e-03, 2.41204594e-03, 2.40328481e-03,\n",
       "       2.38716271e-03, 2.38262148e-03, 2.35935327e-03, 2.34986847e-03,\n",
       "       2.34307946e-03, 2.32798554e-03, 2.32531030e-03, 2.32143256e-03,\n",
       "       2.30105541e-03, 2.29268123e-03, 2.28707853e-03, 2.27640655e-03,\n",
       "       2.25823137e-03, 2.24535714e-03, 2.23037560e-03, 2.21936605e-03,\n",
       "       2.21265776e-03, 2.19496011e-03, 2.18619102e-03, 2.17963070e-03,\n",
       "       2.16863547e-03, 2.16568500e-03, 2.16001054e-03, 2.13307196e-03,\n",
       "       2.12623599e-03, 2.11686388e-03, 2.11470444e-03, 2.10189545e-03,\n",
       "       2.09094089e-03, 2.07742681e-03, 2.06881683e-03, 2.05187409e-03,\n",
       "       2.04841636e-03, 2.03057179e-03, 2.02331955e-03, 2.00735861e-03,\n",
       "       2.00301960e-03, 1.99435858e-03, 1.99164484e-03, 1.98094484e-03,\n",
       "       1.97447919e-03, 1.96584344e-03, 1.94464481e-03, 1.93764007e-03,\n",
       "       1.93032629e-03, 1.92186011e-03, 1.91076025e-03, 1.90622135e-03,\n",
       "       1.90130098e-03, 1.89609059e-03, 1.88075299e-03, 1.87461393e-03,\n",
       "       1.87098515e-03, 1.85526842e-03, 1.84544150e-03, 1.83305070e-03,\n",
       "       1.82582733e-03, 1.81836633e-03, 1.81376638e-03, 1.79871036e-03,\n",
       "       1.79062641e-03, 1.78286838e-03, 1.76520233e-03, 1.75807707e-03,\n",
       "       1.74367356e-03, 1.73834691e-03, 1.72438408e-03, 1.71962089e-03,\n",
       "       1.70491029e-03, 1.69235984e-03, 1.68366053e-03, 1.68139007e-03,\n",
       "       1.66180896e-03, 1.65213331e-03, 1.64452526e-03, 1.64299150e-03,\n",
       "       1.63439412e-03, 1.61864848e-03, 1.61343698e-03, 1.60738726e-03,\n",
       "       1.59923746e-03, 1.59546248e-03, 1.58386099e-03, 1.57042819e-03,\n",
       "       1.56571295e-03, 1.55446891e-03, 1.54507657e-03, 1.53974695e-03,\n",
       "       1.52663156e-03, 1.52421929e-03, 1.51382406e-03, 1.50623573e-03,\n",
       "       1.50295409e-03, 1.49234154e-03, 1.48154380e-03, 1.47762667e-03,\n",
       "       1.46469673e-03, 1.45951120e-03, 1.45412791e-03, 1.45060626e-03,\n",
       "       1.44194107e-03, 1.43542785e-03, 1.43299631e-03, 1.42688556e-03,\n",
       "       1.41312314e-03, 1.39928563e-03, 1.39405630e-03, 1.38555936e-03,\n",
       "       1.37722212e-03, 1.36967583e-03, 1.36000040e-03, 1.35564884e-03,\n",
       "       1.34760044e-03, 1.33983654e-03, 1.33312749e-03, 1.32176742e-03,\n",
       "       1.31060797e-03, 1.30719325e-03, 1.30160357e-03, 1.29117536e-03,\n",
       "       1.29005338e-03, 1.28224183e-03, 1.27569354e-03, 1.27380543e-03,\n",
       "       1.26437994e-03, 1.25524884e-03, 1.24646238e-03, 1.24156131e-03,\n",
       "       1.23551529e-03, 1.22636070e-03, 1.21832142e-03, 1.21136839e-03,\n",
       "       1.20195751e-03, 1.19340868e-03, 1.18672435e-03, 1.18181905e-03,\n",
       "       1.17182476e-03, 1.16273837e-03, 1.15433185e-03, 1.15223322e-03,\n",
       "       1.13771153e-03, 1.13138719e-03, 1.12813395e-03, 1.11595429e-03,\n",
       "       1.11348367e-03, 1.10612636e-03, 1.09352436e-03, 1.08787761e-03,\n",
       "       1.07763989e-03, 1.07016514e-03, 1.06631942e-03, 1.06057266e-03,\n",
       "       1.05586276e-03, 1.05220836e-03, 1.04506138e-03, 1.04185356e-03,\n",
       "       1.03478864e-03, 1.02671265e-03, 1.02266740e-03, 1.02040799e-03,\n",
       "       1.00676170e-03, 1.00513727e-03, 9.93461920e-04, 9.88807972e-04,\n",
       "       9.80171773e-04, 9.76390447e-04, 9.69722748e-04, 9.63048948e-04,\n",
       "       9.56195569e-04, 9.55037555e-04, 9.50382131e-04, 9.43504620e-04,\n",
       "       9.41756625e-04, 9.29951863e-04, 9.21510140e-04, 9.15795312e-04,\n",
       "       9.04435929e-04, 9.03193165e-04, 8.92289233e-04, 8.86960753e-04,\n",
       "       8.82823294e-04, 8.76801798e-04, 8.69785276e-04, 8.64799064e-04,\n",
       "       8.55519538e-04, 8.51584609e-04, 8.48441484e-04, 8.42961943e-04,\n",
       "       8.35754433e-04, 8.31169231e-04, 8.27636752e-04, 8.21270954e-04,\n",
       "       8.15251983e-04, 8.09736563e-04, 8.06772049e-04, 8.01291728e-04,\n",
       "       7.91700686e-04, 7.81898366e-04, 7.73411123e-04, 7.72736274e-04,\n",
       "       7.68037414e-04, 7.56035850e-04, 7.50904822e-04, 7.47019989e-04,\n",
       "       7.42823329e-04, 7.34670147e-04, 7.30110386e-04, 7.22684544e-04,\n",
       "       7.19044026e-04, 7.11391235e-04, 7.06799666e-04, 6.96736137e-04,\n",
       "       6.93629947e-04, 6.92136790e-04, 6.82402667e-04, 6.77968236e-04,\n",
       "       6.74209508e-04, 6.68839703e-04, 6.66441779e-04, 6.59744706e-04,\n",
       "       6.52653865e-04, 6.50005624e-04, 6.44906355e-04, 6.41567441e-04,\n",
       "       6.31699111e-04, 6.30371069e-04, 6.23270101e-04, 6.17764922e-04,\n",
       "       6.14990879e-04, 6.07139582e-04, 5.95134587e-04, 5.89607714e-04,\n",
       "       5.84096546e-04, 5.80011016e-04, 5.75517347e-04, 5.70690648e-04,\n",
       "       5.67738619e-04, 5.61733047e-04, 5.54250530e-04, 5.49253223e-04,\n",
       "       5.45271978e-04, 5.39735244e-04, 5.37752014e-04, 5.30839977e-04,\n",
       "       5.30082808e-04, 5.20016023e-04, 5.17101303e-04, 5.11714060e-04,\n",
       "       5.09662267e-04, 5.07491164e-04, 5.01310146e-04, 4.96587565e-04,\n",
       "       4.93939823e-04, 4.88874780e-04, 4.77868926e-04, 4.71487484e-04,\n",
       "       4.68120687e-04, 4.66890590e-04, 4.60694722e-04, 4.55825813e-04,\n",
       "       4.49689586e-04, 4.44438906e-04, 4.42085772e-04, 4.35674197e-04,\n",
       "       4.31317977e-04, 4.27646172e-04, 4.20745367e-04, 4.13961003e-04,\n",
       "       4.13317098e-04, 4.06544619e-04, 4.00648690e-04, 3.98385930e-04,\n",
       "       3.92588205e-04, 3.89282670e-04, 3.82974435e-04, 3.79152984e-04,\n",
       "       3.76970199e-04, 3.76249679e-04, 3.68719081e-04, 3.60710417e-04,\n",
       "       3.55361525e-04, 3.51909975e-04, 3.44664376e-04, 3.40536660e-04,\n",
       "       3.35335858e-04, 3.32270084e-04, 3.27891474e-04, 3.24716501e-04,\n",
       "       3.19310743e-04, 3.16552432e-04, 3.09875898e-04, 3.03450694e-04,\n",
       "       3.01634649e-04, 2.95377811e-04, 2.87070968e-04, 2.84681718e-04,\n",
       "       2.81941532e-04, 2.69683667e-04, 2.67144266e-04, 2.62100083e-04,\n",
       "       2.58464971e-04, 2.55154143e-04, 2.52640982e-04, 2.43541948e-04,\n",
       "       2.38674287e-04, 2.37757020e-04, 2.28234545e-04, 2.19209993e-04,\n",
       "       2.06857452e-04, 2.03676519e-04, 1.91128833e-04, 3.21483553e-28])"
      ]
     },
     "execution_count": 39,
     "metadata": {},
     "output_type": "execute_result"
    }
   ],
   "source": [
    "proportion*100"
   ]
  },
  {
   "cell_type": "code",
   "execution_count": 16,
   "id": "2c862b91",
   "metadata": {},
   "outputs": [],
   "source": [
    "pca = PCA(X=D1000, d=30)\n",
    "\n",
    "n = D1000.shape[0]\n",
    "_, X_hat_Buggy = pca.Buggy_PCA(D1000)\n",
    "_, X_hat_Demean = pca.Demeaned_PCA()\n",
    "_, X_hat_Normalize = pca.Normalized_PCA()\n",
    "\n",
    "_, X_hat_DRO, _, _ = DRO(D1000, d=30)"
   ]
  },
  {
   "cell_type": "code",
   "execution_count": 18,
   "id": "03a7cd53",
   "metadata": {},
   "outputs": [
    {
     "name": "stdout",
     "output_type": "stream",
     "text": [
      "Buggy PCA error =  802.7313986203587\n",
      "Demeaned PCA error =  273.04595897860275\n",
      "Normalized PCA error =  273.6285809976233\n",
      "DRO error =  273.0459589786028\n"
     ]
    }
   ],
   "source": [
    "Buggy_error = error(D1000, X_hat_Buggy)/n\n",
    "Demean_error = error(D1000, X_hat_Demean)/n\n",
    "Normalize_error = error(D1000, X_hat_Normalize)/n\n",
    "DRO_error = error(D1000, X_hat_DRO)/n\n",
    "\n",
    "print(\"Buggy PCA error = \", Buggy_error)\n",
    "print(\"Demeaned PCA error = \", Demean_error)\n",
    "print(\"Normalized PCA error = \", Normalize_error)\n",
    "print(\"DRO error = \", DRO_error)"
   ]
  },
  {
   "cell_type": "code",
   "execution_count": null,
   "id": "fcc6f0ff",
   "metadata": {},
   "outputs": [],
   "source": []
  }
 ],
 "metadata": {
  "kernelspec": {
   "display_name": "Python 3 (ipykernel)",
   "language": "python",
   "name": "python3"
  },
  "language_info": {
   "codemirror_mode": {
    "name": "ipython",
    "version": 3
   },
   "file_extension": ".py",
   "mimetype": "text/x-python",
   "name": "python",
   "nbconvert_exporter": "python",
   "pygments_lexer": "ipython3",
   "version": "3.9.13"
  }
 },
 "nbformat": 4,
 "nbformat_minor": 5
}
