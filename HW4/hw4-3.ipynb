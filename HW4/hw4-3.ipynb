{
 "cells": [
  {
   "cell_type": "code",
   "execution_count": 1,
   "id": "997b9a7a",
   "metadata": {},
   "outputs": [],
   "source": [
    "import numpy as np\n",
    "import math\n",
    "\n",
    "vocabulary = ['a','b','c','d','e','f','g','h','i','j','k','l','m','n','o','p','q','r','s','t','u','v','w','x','y','z',' '] # 27 chars\n",
    "language = ['e','j','s'] # 3 languages\n",
    "\n",
    "def read_file(file_name, path = './languageID/'):\n",
    "    f = open(path+file_name, 'r')\n",
    "    content = f.read()\n",
    "    content = content.replace('\\n', '')  # take \\n as space\n",
    "    return content"
   ]
  },
  {
   "cell_type": "code",
   "execution_count": 2,
   "id": "275e337c",
   "metadata": {},
   "outputs": [],
   "source": [
    "def boc(file):  # get bag of character for input file\n",
    "    l = len(file)\n",
    "    voc = dict()\n",
    "    for i in range(l):\n",
    "        if file[i] in voc:\n",
    "            voc[file[i]] += 1\n",
    "        else:\n",
    "            voc[file[i]] = 1\n",
    "    return voc\n",
    "\n",
    "\n",
    "def count_char(file): # counts of characters\n",
    "    voc = boc(file)\n",
    "    count = []\n",
    "    for v in vocabulary:\n",
    "        if v in voc:\n",
    "            count.append(voc[v])\n",
    "        else:\n",
    "            count.append(0)\n",
    "    return count"
   ]
  },
  {
   "cell_type": "markdown",
   "id": "4343a595",
   "metadata": {},
   "source": [
    "# hw4.3.1"
   ]
  },
  {
   "cell_type": "code",
   "execution_count": 3,
   "id": "c49bac5d",
   "metadata": {},
   "outputs": [],
   "source": [
    "e_train = []\n",
    "j_train = []\n",
    "s_train = []\n",
    "for i in range(10):\n",
    "    e_train.append(read_file('e'+str(i)+'.txt'))\n",
    "    j_train.append(read_file('j'+str(i)+'.txt'))\n",
    "    s_train.append(read_file('s'+str(i)+'.txt'))\n",
    "train = {'e':e_train, 'j':j_train, 's':s_train}"
   ]
  },
  {
   "cell_type": "code",
   "execution_count": 4,
   "id": "2858b5d4",
   "metadata": {},
   "outputs": [],
   "source": [
    "#train"
   ]
  },
  {
   "cell_type": "code",
   "execution_count": 5,
   "id": "73d772f7",
   "metadata": {},
   "outputs": [
    {
     "name": "stdout",
     "output_type": "stream",
     "text": [
      "0.3333333333333333\n"
     ]
    }
   ],
   "source": [
    "p_prior = (10+1/2)/(30+3/2)\n",
    "log_prior = math.log(p_prior)\n",
    "\n",
    "print(p_prior)"
   ]
  },
  {
   "cell_type": "markdown",
   "id": "e8f48023",
   "metadata": {},
   "source": [
    "# hw4.3.2 & 4.3.3"
   ]
  },
  {
   "cell_type": "code",
   "execution_count": 6,
   "id": "41782096",
   "metadata": {},
   "outputs": [],
   "source": [
    "raw_theta = {'e':[0]*27,'j':[0]*27,'s':[0]*27}\n",
    "for l in language:\n",
    "    for f in train[l]:\n",
    "        tmp = count_char(f)\n",
    "        raw_theta[l] = [raw_theta[l][i] + tmp[i] for i in range(27)]"
   ]
  },
  {
   "cell_type": "code",
   "execution_count": 7,
   "id": "73c51cef",
   "metadata": {},
   "outputs": [
    {
     "name": "stdout",
     "output_type": "stream",
     "text": [
      "[910, 168, 325, 332, 1594, 286, 264, 714, 838, 21, 56, 438, 310, 876, 975, 253, 8, 814, 1001, 1212, 403, 140, 234, 17, 209, 9, 2712]\n"
     ]
    }
   ],
   "source": [
    "print(raw_theta['e'])"
   ]
  },
  {
   "cell_type": "code",
   "execution_count": 8,
   "id": "85e4584b",
   "metadata": {},
   "outputs": [],
   "source": [
    "# using log to avoid underflow\n",
    "log_theta = {'e':[0]*27,'j':[0]*27,'s':[0]*27}\n",
    "for l in language:\n",
    "    total = sum(raw_theta[l])\n",
    "    # using 1/2 smoothing\n",
    "    log_theta[l] = [math.log((raw_theta[l][i]+1/2))-math.log((total+27/2)) for i in range(27)]"
   ]
  },
  {
   "cell_type": "code",
   "execution_count": 9,
   "id": "635238e3",
   "metadata": {},
   "outputs": [
    {
     "name": "stdout",
     "output_type": "stream",
     "text": [
      "e: [0.0602, 0.0111, 0.0215, 0.022, 0.1054, 0.0189, 0.0175, 0.0472, 0.0554, 0.0014, 0.0037, 0.029, 0.0205, 0.0579, 0.0645, 0.0168, 0.0006, 0.0538, 0.0662, 0.0801, 0.0267, 0.0093, 0.0155, 0.0012, 0.0138, 0.0006, 0.1792]\n",
      "j: [0.1318, 0.0109, 0.0055, 0.0172, 0.0602, 0.0039, 0.014, 0.0318, 0.097, 0.0023, 0.0574, 0.0014, 0.0398, 0.0567, 0.0912, 0.0009, 0.0001, 0.0428, 0.0422, 0.057, 0.0706, 0.0002, 0.0197, 0.0, 0.0142, 0.0077, 0.1234]\n",
      "s: [0.1046, 0.0082, 0.0375, 0.0397, 0.1138, 0.0086, 0.0072, 0.0045, 0.0499, 0.0066, 0.0003, 0.0529, 0.0258, 0.0542, 0.0725, 0.0243, 0.0077, 0.0593, 0.0658, 0.0356, 0.0337, 0.0059, 0.0001, 0.0025, 0.0079, 0.0027, 0.1683]\n"
     ]
    }
   ],
   "source": [
    "for l in log_theta:\n",
    "    print(l+\":\", [round(math.e**log_theta[l][i],4) for i in range(27)])"
   ]
  },
  {
   "cell_type": "markdown",
   "id": "ccb9b0ad",
   "metadata": {},
   "source": [
    "# hw4.3.4"
   ]
  },
  {
   "cell_type": "code",
   "execution_count": 10,
   "id": "171f5885",
   "metadata": {},
   "outputs": [
    {
     "name": "stdout",
     "output_type": "stream",
     "text": [
      "[164, 32, 53, 57, 311, 55, 51, 140, 140, 3, 6, 85, 64, 139, 182, 53, 3, 141, 186, 225, 65, 31, 47, 4, 38, 2, 498]\n"
     ]
    }
   ],
   "source": [
    "test = read_file(\"e10.txt\")\n",
    "\n",
    "e10 = count_char(test)\n",
    "print(e10)"
   ]
  },
  {
   "cell_type": "markdown",
   "id": "2255a0df",
   "metadata": {},
   "source": [
    "# hw4.3.5"
   ]
  },
  {
   "cell_type": "code",
   "execution_count": 11,
   "id": "d6af379e",
   "metadata": {},
   "outputs": [],
   "source": [
    "# def multinomial(lst):\n",
    "#     res, i = 1, sum(lst)\n",
    "#     i0 = lst.index(max(lst))\n",
    "#     for a in lst[:i0] + lst[i0+1:]:\n",
    "#         for j in range(1,a+1):\n",
    "#             res *= i\n",
    "#             res //= j\n",
    "#             i -= 1\n",
    "#     return res\n",
    "# log_coef=math.log(multinomial(e10))\n",
    "\n",
    "# log_coef"
   ]
  },
  {
   "cell_type": "code",
   "execution_count": 12,
   "id": "dfca76ff",
   "metadata": {},
   "outputs": [
    {
     "name": "stdout",
     "output_type": "stream",
     "text": [
      "e:  0.0\n",
      "j:  0.0\n",
      "s:  0.0\n"
     ]
    }
   ],
   "source": [
    "log_p = {'e':0,'j':0,'s':0}\n",
    "for l in language:\n",
    "    tmp_log_theta = [log_theta[l][i]*e10[i] for i in range(27)]\n",
    "    log_p[l] = sum(tmp_log_theta)\n",
    "    print(l+\": \", round(math.e**(log_p[l]),4))\n",
    "    # the results are all zero due to the lack of multinomial coef, so still use log form"
   ]
  },
  {
   "cell_type": "code",
   "execution_count": 13,
   "id": "c9ce2040",
   "metadata": {},
   "outputs": [
    {
     "data": {
      "text/plain": [
       "{'e': -7841.865447060635, 'j': -8771.433079075032, 's': -8467.282044010557}"
      ]
     },
     "execution_count": 13,
     "metadata": {},
     "output_type": "execute_result"
    }
   ],
   "source": [
    "log_p"
   ]
  },
  {
   "cell_type": "markdown",
   "id": "d606ac65",
   "metadata": {},
   "source": [
    "# hw4.3.7"
   ]
  },
  {
   "cell_type": "code",
   "execution_count": 14,
   "id": "05d92eb1",
   "metadata": {},
   "outputs": [],
   "source": [
    "def predict(test_f, log_theta, log_prior_p):\n",
    "    highest_log_p = float(\"-inf\")\n",
    "    prediction = None\n",
    "    log_p = {'e':0,'s':0,'j':0}\n",
    "    for l in language:\n",
    "        tmp_log_theta = [log_theta[l][i]*test_f[i] for i in range(27)]\n",
    "        log_p[l] = sum(tmp_log_theta)+log_prior_p[l]\n",
    "        if log_p[l] > highest_log_p:\n",
    "            highest_log_p = log_p[l]\n",
    "            prediction = l\n",
    "    return prediction"
   ]
  },
  {
   "cell_type": "code",
   "execution_count": 15,
   "id": "a1bdb480",
   "metadata": {},
   "outputs": [],
   "source": [
    "e_test = []\n",
    "j_test = []\n",
    "s_test = []\n",
    "for i in range(10,20):\n",
    "    e_test.append(read_file('e'+str(i)+'.txt'))\n",
    "    j_test.append(read_file('j'+str(i)+'.txt'))\n",
    "    s_test.append(read_file('s'+str(i)+'.txt'))\n",
    "    \n",
    "test = {'e':e_test,'j':j_test,'s':s_test}"
   ]
  },
  {
   "cell_type": "code",
   "execution_count": 16,
   "id": "87c29681",
   "metadata": {},
   "outputs": [
    {
     "name": "stdout",
     "output_type": "stream",
     "text": [
      "['e', 'e', 'e', 'e', 'e', 'e', 'e', 'e', 'e', 'e']\n",
      "['j', 'j', 'j', 'j', 'j', 'j', 'j', 'j', 'j', 'j']\n",
      "['s', 's', 's', 's', 's', 's', 's', 's', 's', 's']\n"
     ]
    }
   ],
   "source": [
    "log_prior_p = {'e':math.log(1/3),'j':math.log(1/3),'s':math.log(1/3)}\n",
    "e_prediction = []\n",
    "for f in test['e']:\n",
    "    test_f = count_char(f)\n",
    "    e_prediction.append(predict(test_f, log_theta, log_prior_p))\n",
    "print(e_prediction)    \n",
    "\n",
    "j_prediction = []\n",
    "for f in test['j']:\n",
    "    test_f = count_char(f)\n",
    "    j_prediction.append(predict(test_f, log_theta, log_prior_p))\n",
    "print(j_prediction)\n",
    "\n",
    "s_prediction = []\n",
    "for f in test['s']:\n",
    "    test_f = count_char(f)\n",
    "    s_prediction.append(predict(test_f, log_theta, log_prior_p))\n",
    "print(s_prediction)\n",
    "    \n"
   ]
  },
  {
   "cell_type": "code",
   "execution_count": null,
   "id": "1e63ab47",
   "metadata": {},
   "outputs": [],
   "source": []
  }
 ],
 "metadata": {
  "kernelspec": {
   "display_name": "Python 3 (ipykernel)",
   "language": "python",
   "name": "python3"
  },
  "language_info": {
   "codemirror_mode": {
    "name": "ipython",
    "version": 3
   },
   "file_extension": ".py",
   "mimetype": "text/x-python",
   "name": "python",
   "nbconvert_exporter": "python",
   "pygments_lexer": "ipython3",
   "version": "3.9.13"
  }
 },
 "nbformat": 4,
 "nbformat_minor": 5
}
