{
 "cells": [
  {
   "cell_type": "code",
   "execution_count": 56,
   "id": "8fb81f30",
   "metadata": {},
   "outputs": [],
   "source": [
    "import pandas as pd\n",
    "import numpy as np\n",
    "%run kNN.ipynb\n",
    "\n",
    "import matplotlib.pyplot as plt\n",
    "import os\n",
    "#os.getcwd()"
   ]
  },
  {
   "cell_type": "markdown",
   "id": "010cb6aa",
   "metadata": {},
   "source": [
    "# 3.2.1"
   ]
  },
  {
   "cell_type": "code",
   "execution_count": 157,
   "id": "220adcbd",
   "metadata": {},
   "outputs": [],
   "source": [
    "D2z = np.loadtxt(\"D2z.txt\")\n",
    "\n",
    "X = D2z[:,0:2]\n",
    "y = D2z[:,2]\n",
    "\n",
    "grid = np.array([[row, col] for row in np.arange(-2, 2, 0.1) for col in np.arange(-2, 2, 0.1)])\n",
    "\n",
    "# predict for grid points\n",
    "clf = kNN(k=1)\n",
    "clf.fit(X,y)\n",
    "grid_test = clf.predict(grid)[\"pred\"]"
   ]
  },
  {
   "cell_type": "code",
   "execution_count": 161,
   "id": "299fa42f",
   "metadata": {},
   "outputs": [
    {
     "data": {
      "text/plain": [
       "<matplotlib.legend.Legend at 0x233803047c0>"
      ]
     },
     "execution_count": 161,
     "metadata": {},
     "output_type": "execute_result"
    },
    {
     "data": {
      "image/png": "[encoded data removed]",
      "text/plain": [
       "<Figure size 500x500 with 1 Axes>"
      ]
     },
     "metadata": {},
     "output_type": "display_data"
    }
   ],
   "source": [
    "# reform grid and D2z into DataFrame\n",
    "grid_df = pd.DataFrame(grid)\n",
    "grid_df.columns = (\"x0\",\"x1\")\n",
    "grid_df[\"y\"] = grid_test\n",
    "\n",
    "D2z_df = pd.DataFrame(D2z)\n",
    "D2z_df.columns = (\"x0\",\"x1\",\"y\")\n",
    "\n",
    "grid1 = grid_df.loc[grid_df.y == 1]\n",
    "grid0 = grid_df.loc[grid_df.y == 0]\n",
    "D2z1 = D2z_df.loc[D2z_df.y == 1]\n",
    "D2z0 = D2z_df.loc[D2z_df.y == 0]\n",
    "\n",
    "# plot\n",
    "plt.figure(figsize = (5, 5))\n",
    "plt.scatter(grid1.x0, grid1.x1, color = \"b\", s=1,label = \"grid_1\")\n",
    "plt.scatter(grid0.x0, grid0.x1, color = \"r\", s=1,label = \"grid_0\")\n",
    "\n",
    "plt.scatter(D2z1.x0, D2z1.x1, marker = \"o\", s=4,label = \"train_1\")\n",
    "plt.scatter(D2z0.x0, D2z0.x1, marker = \"o\", s=4,label = \"train_0\")\n",
    "plt.legend()\n",
    "# plt.xlabel(\"X1\")\n",
    "# plt.ylabel(\"X2\")\n",
    "# plt.title(\"ROC Curve\")"
   ]
  },
  {
   "cell_type": "markdown",
   "id": "66bd4cb7",
   "metadata": {},
   "source": [
    "# 3.2.2"
   ]
  },
  {
   "cell_type": "code",
   "execution_count": 2,
   "id": "e8d06417",
   "metadata": {},
   "outputs": [],
   "source": [
    "def accuarcy(TP, FP, TN, FN):\n",
    "#     n1 = length(TP)\n",
    "#     n2 = length(FP)\n",
    "#     n3 = length(TN)\n",
    "#     n4 = length(FN)\n",
    "#     return (n1+n3)/(n1+n2+n3+n4)\n",
    "    return round((TP+TN)/(TP+FP+TN+FN),4)\n",
    "\n",
    "def precision(TP, FP, TN, FN):\n",
    "#     n1 = length(TP)\n",
    "#     n2 = length(FP)\n",
    "#     return n1/(n1+n2)\n",
    "    return round(TP/(TP+FP),4)\n",
    "\n",
    "def recall(TP, FP, TN, FN):\n",
    "#     n1 = length(TP)\n",
    "#     n4 = length(FN)\n",
    "#     return n1/(n1+n4)\n",
    "    return round(TP/(TP+FN),4)"
   ]
  },
  {
   "cell_type": "code",
   "execution_count": 17,
   "id": "7d2829c5",
   "metadata": {},
   "outputs": [],
   "source": [
    "emails = pd.read_csv(\"emails.csv\", sep=\",\")\n",
    "#emails\n",
    "\n",
    "X = emails.loc[:,\"the\":\"dry\"]\n",
    "X = X.to_numpy()\n",
    "y = emails.loc[:,\"Prediction\"]\n",
    "y = y.to_numpy()"
   ]
  },
  {
   "cell_type": "code",
   "execution_count": 4,
   "id": "fa87b346",
   "metadata": {},
   "outputs": [
    {
     "name": "stdout",
     "output_type": "stream",
     "text": [
      "Fold 1 : 0.825 0.6536 0.8211\n",
      "Fold 2 : 0.855 0.6897 0.8664\n",
      "Fold 3 : 0.863 0.7221 0.8415\n",
      "Fold 4 : 0.854 0.7216 0.8197\n",
      "Fold 5 : 0.775 0.6052 0.7614\n"
     ]
    }
   ],
   "source": [
    "clf = kNN(k=1)\n",
    "acc1 = []\n",
    "for i in range(5):\n",
    "    test_idx = [idx for idx in range( i * 1000, (i + 1) * 1000)]\n",
    "    X_test = X[test_idx,:]\n",
    "    y_test = y[test_idx]\n",
    "    X_train = np.delete(X, test_idx, axis=0)\n",
    "    y_train = np.delete(y, test_idx, axis=0)\n",
    "\n",
    "    clf.fit(X_train,y_train)\n",
    "    X_test_clf = clf.predict(X_test)[\"pred\"]\n",
    "    \n",
    "    y_compare = {'y_true': list(y_test), 'y_pred': X_test_clf}\n",
    "    y_compare = pd.DataFrame(data=y_compare)\n",
    "\n",
    "    TP = np.sum((y_compare['y_true']==1) & (y_compare['y_pred']==1))\n",
    "    FP = np.sum((y_compare['y_true']==0) & (y_compare['y_pred']==1))\n",
    "    FN = np.sum((y_compare['y_true']==1) & (y_compare['y_pred']==0))\n",
    "    TN = np.sum((y_compare['y_true']==0) & (y_compare['y_pred']==0))\n",
    "    \n",
    "    acc1.append(accuarcy(TP, FP, TN, FN))\n",
    "    \n",
    "    print(\"Fold\",i+1,\":\",\n",
    "          accuarcy(TP, FP, TN, FN),\n",
    "          precision(TP, FP, TN, FN),\n",
    "          recall(TP, FP, TN, FN))"
   ]
  },
  {
   "cell_type": "code",
   "execution_count": 5,
   "id": "6b8668c1",
   "metadata": {},
   "outputs": [
    {
     "data": {
      "text/plain": [
       "0.8344000000000001"
      ]
     },
     "execution_count": 5,
     "metadata": {},
     "output_type": "execute_result"
    }
   ],
   "source": [
    "avg_acc1 = np.mean(acc1)\n",
    "avg_acc1 # avg accuracy for 1NN"
   ]
  },
  {
   "cell_type": "markdown",
   "id": "aa538cbc",
   "metadata": {},
   "source": [
    "# 3.2.3"
   ]
  },
  {
   "cell_type": "code",
   "execution_count": 46,
   "id": "280f2aab",
   "metadata": {},
   "outputs": [],
   "source": [
    "%run LogisticReg.ipynb"
   ]
  },
  {
   "cell_type": "code",
   "execution_count": 39,
   "id": "ad71b97d",
   "metadata": {},
   "outputs": [],
   "source": [
    "X_logi = np.insert(X, 0, 1, axis=1) #insert 1 as column0\n",
    "#X_logi"
   ]
  },
  {
   "cell_type": "code",
   "execution_count": 59,
   "id": "855f4197",
   "metadata": {},
   "outputs": [
    {
     "name": "stderr",
     "output_type": "stream",
     "text": [
      "C:\\Users\\22838\\AppData\\Local\\Temp\\ipykernel_13632\\3595032666.py:5: RuntimeWarning: overflow encountered in exp\n",
      "  return 1/(1+np.exp(-x))\n"
     ]
    },
    {
     "name": "stdout",
     "output_type": "stream",
     "text": [
      "Fold 1 : 0.908 0.9106 0.7509\n",
      "Fold 2 : 0.775 0.5531 0.9783\n",
      "Fold 3 : 0.894 0.8477 0.7641\n",
      "Fold 4 : 0.868 0.875 0.6429\n",
      "Fold 5 : 0.848 0.7852 0.6928\n"
     ]
    }
   ],
   "source": [
    "clf = LogiReg()\n",
    "for i in range(5):\n",
    "    test_idx = [idx for idx in range( i * 1000, (i + 1) * 1000)]\n",
    "    X_test = X_logi[test_idx,:]\n",
    "    y_test = y[test_idx]\n",
    "    X_train = np.delete(X_logi, test_idx, axis=0)\n",
    "    y_train = np.delete(y, test_idx, axis=0)\n",
    "\n",
    "    clf.fit(X_train,y_train)\n",
    "    y_result = clf.predict(X_test)\n",
    "    X_test_clf = y_result[\"pred\"]\n",
    "    \n",
    "    y_compare = {'y_true': list(y_test), 'y_pred': X_test_clf}\n",
    "    y_compare = pd.DataFrame(data=y_compare)\n",
    "\n",
    "    TP = np.sum((y_compare['y_true']==1) & (y_compare['y_pred']==1))\n",
    "    FP = np.sum((y_compare['y_true']==0) & (y_compare['y_pred']==1))\n",
    "    FN = np.sum((y_compare['y_true']==1) & (y_compare['y_pred']==0))\n",
    "    TN = np.sum((y_compare['y_true']==0) & (y_compare['y_pred']==0))\n",
    "    \n",
    "    #for Q3.2.5\n",
    "    if i == 1:\n",
    "        Q5_logi = y_result[\"confi_posi\"]\n",
    "    \n",
    "    print(\"Fold\",i+1,\":\",\n",
    "          accuarcy(TP, FP, TN, FN),\n",
    "          precision(TP, FP, TN, FN),\n",
    "          recall(TP, FP, TN, FN))"
   ]
  },
  {
   "cell_type": "markdown",
   "id": "b25c06b2",
   "metadata": {},
   "source": [
    "# 3.2.4"
   ]
  },
  {
   "cell_type": "code",
   "execution_count": 6,
   "id": "177a4e32",
   "metadata": {},
   "outputs": [
    {
     "name": "stdout",
     "output_type": "stream",
     "text": [
      "3 0 accuracy: 0.846\n",
      "3 1 accuracy: 0.85\n",
      "3 2 accuracy: 0.856\n",
      "3 3 accuracy: 0.88\n",
      "3 4 accuracy: 0.773\n",
      "5 0 accuracy: 0.837\n",
      "5 1 accuracy: 0.852\n",
      "5 2 accuracy: 0.871\n",
      "5 3 accuracy: 0.869\n",
      "5 4 accuracy: 0.78\n",
      "7 0 accuracy: 0.837\n",
      "7 1 accuracy: 0.861\n",
      "7 2 accuracy: 0.875\n",
      "7 3 accuracy: 0.874\n",
      "7 4 accuracy: 0.779\n",
      "10 0 accuracy: 0.849\n",
      "10 1 accuracy: 0.865\n",
      "10 2 accuracy: 0.875\n",
      "10 3 accuracy: 0.88\n",
      "10 4 accuracy: 0.781\n"
     ]
    },
    {
     "data": {
      "text/plain": [
       "[0.8344000000000001, 0.841, 0.8418000000000001, 0.8452, 0.85]"
      ]
     },
     "execution_count": 6,
     "metadata": {},
     "output_type": "execute_result"
    }
   ],
   "source": [
    "avg_acc = [avg_acc1]\n",
    "\n",
    "for m in [3,5,7,10]:\n",
    "    clf = kNN(k=m)\n",
    "    acc = []\n",
    "    for i in range(5):\n",
    "        test_idx = [idx for idx in range( i * 1000, (i + 1) * 1000)]\n",
    "        X_test = X[test_idx,:]\n",
    "        y_test = y[test_idx]\n",
    "        X_train = np.delete(X, test_idx, axis=0)\n",
    "        y_train = np.delete(y, test_idx, axis=0)\n",
    "\n",
    "        clf.fit(X_train,y_train)\n",
    "        y_result = clf.predict(X_test)\n",
    "        X_test_clf = y_result[\"pred\"]\n",
    "\n",
    "        y_compare = {'y_true': list(y_test), 'y_pred': X_test_clf}\n",
    "        y_compare = pd.DataFrame(data=y_compare)\n",
    "\n",
    "        num_total = len(y_test)\n",
    "        TP = np.sum((y_compare['y_true']==1) & (y_compare['y_pred']==1))\n",
    "#         FP = np.sum((y_compare['y_true']==0) & (y_compare['y_pred']==1))\n",
    "#         FN = np.sum((y_compare['y_true']==1) & (y_compare['y_pred']==0))\n",
    "        TN = np.sum((y_compare['y_true']==0) & (y_compare['y_pred']==0))\n",
    "\n",
    "        accu=(TP+TN)/num_total # accuracy\n",
    "        acc.append(accu)\n",
    "        \n",
    "        # checkpoint:\n",
    "        print(\"k=\", m, \"CV round\", i+1,\"accuracy:\",accu)\n",
    "        \n",
    "        #for Q3.2.5\n",
    "        if (m == 5) &(i == 1):\n",
    "            Q5_kNN = y_result[\"confi_posi\"]      \n",
    "    \n",
    "    avg_acc.append(np.mean(acc))\n",
    "    \n",
    "avg_acc"
   ]
  },
  {
   "cell_type": "code",
   "execution_count": 8,
   "id": "5798cee5",
   "metadata": {},
   "outputs": [
    {
     "data": {
      "text/plain": [
       "Text(0.5, 1.0, 'kNN 5-Fold Cross Validation')"
      ]
     },
     "execution_count": 8,
     "metadata": {},
     "output_type": "execute_result"
    },
    {
     "data": {
      "image/png": "[encoded data removed]",
      "text/plain": [
       "<Figure size 500x500 with 1 Axes>"
      ]
     },
     "metadata": {},
     "output_type": "display_data"
    }
   ],
   "source": [
    "plt.figure(figsize = (5, 5))\n",
    "plt.plot([1,3,5,7,10], avg_acc, \"-o\")\n",
    "# ax.axhline(0, color = 'black')\n",
    "# ax.axvline(0, color = 'black')\n",
    "plt.xlabel(\"k\")\n",
    "plt.ylabel(\"average accuracy\")\n",
    "plt.title(\"kNN 5-Fold Cross Validation\")"
   ]
  },
  {
   "cell_type": "markdown",
   "id": "d73562db",
   "metadata": {},
   "source": [
    "# 3.2.5"
   ]
  },
  {
   "cell_type": "code",
   "execution_count": 9,
   "id": "304efb57",
   "metadata": {},
   "outputs": [],
   "source": [
    "def ROC(true, c): \n",
    "    # true is y_true, c is confidence positive\n",
    "    # return(FPR, TPR)\n",
    "    if len(true)!=len(c):\n",
    "        print(\"Wrong prediction length!\")\n",
    "        return\n",
    "    \n",
    "    num_neg = sum(val == 0 for val in true)\n",
    "    num_pos = sum(val == 1 for val in true)\n",
    "    \n",
    "    # reorder y_true according to decreasing order of confi_positive \n",
    "    true_new = true[np.argsort(c)[::-1]]\n",
    "    c_new = c[np.argsort(c)[::-1]]\n",
    "    \n",
    "    TP, FP = 0, 0\n",
    "    last_TP = 0\n",
    "    output = [[0,0]]\n",
    "    for i in range(len(true_new)):\n",
    "        if (i>0) & (c_new[i]!=c_new[i-1]) & (true_new[i]==0) & (TP > last_TP):\n",
    "            output.append([FP/num_neg, TP/num_pos])\n",
    "            last_TP = TP\n",
    "        if (true_new[i]==1):\n",
    "            TP +=1\n",
    "        else:\n",
    "            FP +=1\n",
    "    output.append([FP/num_neg, TP/num_pos])\n",
    "    return(output)"
   ]
  },
  {
   "cell_type": "code",
   "execution_count": 60,
   "id": "bf8ca342",
   "metadata": {},
   "outputs": [],
   "source": [
    "test_idx = [idx for idx in range( 1000, 2000)]\n",
    "y_test = y[test_idx]"
   ]
  },
  {
   "cell_type": "code",
   "execution_count": 61,
   "id": "65cd8970",
   "metadata": {},
   "outputs": [],
   "source": [
    "# use Fold 2: [1000:2000], \n",
    "# Q5.kNN, and Q5.logi are caluculated in Q3.2.4 and Q3.2.3\n",
    "# kNN\n",
    "curve1=ROC(y_test,np.array(Q5.kNN))\n",
    "curve2=ROC(y_test,np.array(Q5_logi))"
   ]
  },
  {
   "cell_type": "code",
   "execution_count": 66,
   "id": "7859b6de",
   "metadata": {},
   "outputs": [
    {
     "data": {
      "text/plain": [
       "Text(0.5, 1.0, 'ROC Curve')"
      ]
     },
     "execution_count": 66,
     "metadata": {},
     "output_type": "execute_result"
    },
    {
     "data": {
      "image/png": "[encoded data removed]",
      "text/plain": [
       "<Figure size 500x500 with 1 Axes>"
      ]
     },
     "metadata": {},
     "output_type": "display_data"
    }
   ],
   "source": [
    "x1 = [i[0] for i in curve1]\n",
    "y1 = [i[1] for i in curve1]\n",
    "\n",
    "x2 = [i[0] for i in curve2]\n",
    "y2 = [i[1] for i in curve2]\n",
    "plt.figure(figsize = (5, 5))\n",
    "plt.plot(x1,y1, color='blue', ls= '-',  label = 'kNN(k=5)')\n",
    "plt.plot(x2,y2, color='orange', ls= '-',  label = 'LogisticRegression')\n",
    "plt.legend(loc='best')\n",
    "# ax.axhline(0, color = 'black')\n",
    "# ax.axvline(0, color = 'black')\n",
    "plt.xlabel(\"False Positive Rate (Positive label: 1)\")\n",
    "plt.ylabel(\"True Positive Rate (Positive label: 1)\")\n",
    "plt.title(\"ROC Curve\")"
   ]
  },
  {
   "cell_type": "code",
   "execution_count": 54,
   "id": "6e12d2ec",
   "metadata": {},
   "outputs": [
    {
     "data": {
      "text/plain": [
       "[[0, 0],\n",
       " [0.058091286307053944, 0.6642599277978339],\n",
       " [0.12309820193637622, 0.7870036101083032],\n",
       " [0.23651452282157676, 0.927797833935018],\n",
       " [0.3831258644536653, 0.9783393501805054],\n",
       " [1.0, 1.0]]"
      ]
     },
     "execution_count": 54,
     "metadata": {},
     "output_type": "execute_result"
    }
   ],
   "source": [
    "curve1"
   ]
  },
  {
   "cell_type": "code",
   "execution_count": 65,
   "id": "c7f47490",
   "metadata": {},
   "outputs": [
    {
     "data": {
      "text/plain": [
       "[[0, 0],\n",
       " [0.19363762102351315, 0.8736462093862816],\n",
       " [0.1950207468879668, 0.8772563176895307],\n",
       " [0.19640387275242047, 0.8844765342960289],\n",
       " [0.1991701244813278, 0.8880866425992779],\n",
       " [0.20608575380359612, 0.8989169675090253],\n",
       " [0.21023513139695713, 0.9025270758122743],\n",
       " [0.22130013831258644, 0.9061371841155235],\n",
       " [0.22406639004149378, 0.9133574007220217],\n",
       " [0.2268326417704011, 0.9169675090252708],\n",
       " [0.23651452282157676, 0.924187725631769],\n",
       " [0.24343015214384509, 0.927797833935018],\n",
       " [0.24896265560165975, 0.9350180505415162],\n",
       " [0.2627939142461964, 0.9386281588447654],\n",
       " [0.26832641770401106, 0.9422382671480144],\n",
       " [0.2710926694329184, 0.9494584837545126],\n",
       " [0.27247579529737204, 0.9566787003610109],\n",
       " [0.2821576763485477, 0.9602888086642599],\n",
       " [0.28907330567081607, 0.9638989169675091],\n",
       " [0.29045643153526973, 0.9747292418772563],\n",
       " [0.30013831258644535, 0.9783393501805054],\n",
       " [0.31673582295988933, 0.9927797833935018],\n",
       " [0.326417704011065, 0.9963898916967509],\n",
       " [0.33195020746887965, 1.0],\n",
       " [1.0, 1.0]]"
      ]
     },
     "execution_count": 65,
     "metadata": {},
     "output_type": "execute_result"
    }
   ],
   "source": [
    "curve2"
   ]
  }
 ],
 "metadata": {
  "kernelspec": {
   "display_name": "Python 3 (ipykernel)",
   "language": "python",
   "name": "python3"
  },
  "language_info": {
   "codemirror_mode": {
    "name": "ipython",
    "version": 3
   },
   "file_extension": ".py",
   "mimetype": "text/x-python",
   "name": "python",
   "nbconvert_exporter": "python",
   "pygments_lexer": "ipython3",
   "version": "3.9.13"
  }
 },
 "nbformat": 4,
 "nbformat_minor": 5
}
