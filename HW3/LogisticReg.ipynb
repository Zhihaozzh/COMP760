{
 "cells": [
  {
   "cell_type": "code",
   "execution_count": 7,
   "id": "da9821d1",
   "metadata": {},
   "outputs": [
    {
     "data": {
      "text/plain": [
       "11"
      ]
     },
     "execution_count": 7,
     "metadata": {},
     "output_type": "execute_result"
    }
   ],
   "source": [
    "import numpy as np\n",
    "import pandas as pd\n",
    "\n",
    "def sigmoid(x):\n",
    "    return 1/(1+np.exp(-x))\n",
    "\n",
    "class LogiReg:\n",
    "    def __init__(self, learning_rate = .05, max_iter = 1000):\n",
    "        self.lr = learning_rate\n",
    "        self.max_iter = max_iter\n",
    "        self.theta = None\n",
    "        \n",
    "    def fit(self, X ,y):\n",
    "        n_samples, n_features = X.shape\n",
    "        \n",
    "        if sum(X[:,0]==1)!=n_samples:\n",
    "            return print(\"please set the 1st column as all 1's for intercept\")\n",
    "        \n",
    "        self.theta = np.zeros(n_features) # initial theta\n",
    "        for _ in range(self.max_iter):\n",
    "            linear = np.dot(X, self.theta)\n",
    "            y_hat = sigmoid(linear)\n",
    "            gradient = 1/n_samples * np.dot(X.T,(y_hat-y))\n",
    "            self.theta = self.theta - self.lr * gradient\n",
    "            \n",
    "        \n",
    "    def predict(self, X):\n",
    "        n_samples, n_features = X.shape\n",
    "        \n",
    "        if sum(X[:,0]==1)!=n_samples:\n",
    "            return print(\"please set the 1st column as all 1's for intercept\")\n",
    "        \n",
    "        linear = np.dot(X, self.theta)\n",
    "        y_pred = sigmoid(linear)\n",
    "        class_pred = [0 if y<= .5 else 1 for y in y_pred]\n",
    "        \n",
    "        predictions_df = pd.DataFrame({'pred': class_pred, 'confi_posi': y_pred})\n",
    "        return predictions_df\n",
    "        "
   ]
  },
  {
   "cell_type": "code",
   "execution_count": null,
   "id": "f3b44d41",
   "metadata": {},
   "outputs": [],
   "source": []
  }
 ],
 "metadata": {
  "kernelspec": {
   "display_name": "Python 3 (ipykernel)",
   "language": "python",
   "name": "python3"
  },
  "language_info": {
   "codemirror_mode": {
    "name": "ipython",
    "version": 3
   },
   "file_extension": ".py",
   "mimetype": "text/x-python",
   "name": "python",
   "nbconvert_exporter": "python",
   "pygments_lexer": "ipython3",
   "version": "3.9.13"
  }
 },
 "nbformat": 4,
 "nbformat_minor": 5
}
