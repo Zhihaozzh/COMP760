{
 "cells": [
  {
   "cell_type": "code",
   "execution_count": 1,
   "id": "04bfa506",
   "metadata": {},
   "outputs": [],
   "source": [
    "import numpy as np\n",
    "import pandas as pd\n",
    "from collections import Counter\n",
    "\n",
    "def dist(x1, x2):\n",
    "    return np.sqrt(np.sum((x1-x2)**2))\n",
    "\n",
    "class kNN:\n",
    "    def __init__(self, k=1):\n",
    "        self.k = k\n",
    "    \n",
    "    def fit(self, X, y):\n",
    "        self.X_train = X\n",
    "        self.y_train = y\n",
    "\n",
    "        \n",
    "    def predict(self, X_test):\n",
    "        predictions = [self._predict(x) for x in X_test]\n",
    "        predictions_df = pd.DataFrame(predictions)\n",
    "        predictions_df.columns = (\"pred\",\"confi_posi\")\n",
    "        return predictions_df\n",
    "    \n",
    "    \n",
    "    def _predict(self, x):\n",
    "        #distance:\n",
    "        distance = [dist(x, x_train) for x_train in self.X_train]\n",
    "        \n",
    "        # k nearest neighbor\n",
    "        k_indices = np.argsort(distance)[:self.k]\n",
    "        k_nearest_labels = [self.y_train[i] for i in k_indices]\n",
    "        \n",
    "        # majority label\n",
    "        count = Counter(k_nearest_labels)\n",
    "        majority = count.most_common()[0][0]\n",
    "        confi_posi = count[1] / self.k\n",
    "        return (majority,confi_posi) # return most common label\n",
    "        "
   ]
  },
  {
   "cell_type": "code",
   "execution_count": null,
   "id": "e1e32a15",
   "metadata": {},
   "outputs": [],
   "source": []
  }
 ],
 "metadata": {
  "kernelspec": {
   "display_name": "Python 3 (ipykernel)",
   "language": "python",
   "name": "python3"
  },
  "language_info": {
   "codemirror_mode": {
    "name": "ipython",
    "version": 3
   },
   "file_extension": ".py",
   "mimetype": "text/x-python",
   "name": "python",
   "nbconvert_exporter": "python",
   "pygments_lexer": "ipython3",
   "version": "3.9.13"
  }
 },
 "nbformat": 4,
 "nbformat_minor": 5
}
