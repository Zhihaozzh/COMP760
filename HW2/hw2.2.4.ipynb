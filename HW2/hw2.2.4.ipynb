{
 "cells": [
  {
   "cell_type": "markdown",
   "id": "a378756f",
   "metadata": {},
   "source": [
    "# Q 2.4"
   ]
  },
  {
   "cell_type": "code",
   "execution_count": 1,
   "id": "fa8b68d3",
   "metadata": {},
   "outputs": [],
   "source": [
    "import pandas as pd\n",
    "import numpy as np\n",
    "%run DecisionTree.ipynb\n",
    "\n",
    "import os\n",
    "#os.getcwd()\n",
    "import warnings\n",
    "warnings.simplefilter('ignore')"
   ]
  },
  {
   "cell_type": "code",
   "execution_count": 2,
   "id": "f16e665e",
   "metadata": {
    "scrolled": false
   },
   "outputs": [
    {
     "name": "stdout",
     "output_type": "stream",
     "text": [
      "X1 >= 10.0\n",
      "  Leaf: Class 1\n",
      "  X2 >= 3.0\n",
      "    Leaf: Class 1\n",
      "    Leaf: Class 0\n"
     ]
    }
   ],
   "source": [
    "file = \"\\HW2 data\\D3leaves.txt\"\n",
    "path = os.getcwd()+file\n",
    "D3leaves = np.loadtxt(path)\n",
    "\n",
    "Y=D3leaves[:,2]\n",
    "X=D3leaves[:,0:2]\n",
    "\n",
    "clf = DecisionTree()\n",
    "clf.fit(X, Y)\n",
    "clf.visualize_tree()"
   ]
  },
  {
   "cell_type": "code",
   "execution_count": null,
   "id": "f9a6300b",
   "metadata": {},
   "outputs": [],
   "source": []
  }
 ],
 "metadata": {
  "kernelspec": {
   "display_name": "Python 3 (ipykernel)",
   "language": "python",
   "name": "python3"
  },
  "language_info": {
   "codemirror_mode": {
    "name": "ipython",
    "version": 3
   },
   "file_extension": ".py",
   "mimetype": "text/x-python",
   "name": "python",
   "nbconvert_exporter": "python",
   "pygments_lexer": "ipython3",
   "version": "3.9.13"
  }
 },
 "nbformat": 4,
 "nbformat_minor": 5
}
