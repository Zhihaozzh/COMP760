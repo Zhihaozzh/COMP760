{
 "cells": [
  {
   "cell_type": "markdown",
   "id": "0c448fac",
   "metadata": {},
   "source": [
    "# Q 2.5"
   ]
  },
  {
   "cell_type": "code",
   "execution_count": 12,
   "id": "5148ce27",
   "metadata": {},
   "outputs": [],
   "source": [
    "import pandas as pd\n",
    "import numpy as np\n",
    "%run DecisionTree.ipynb\n",
    "\n",
    "import os\n",
    "#os.getcwd()\n",
    "import warnings\n",
    "warnings.simplefilter('ignore')"
   ]
  },
  {
   "cell_type": "markdown",
   "id": "5bcb1834",
   "metadata": {},
   "source": [
    "## Q 2.5.1 & 2.5.2"
   ]
  },
  {
   "cell_type": "code",
   "execution_count": 13,
   "id": "5eacc64e",
   "metadata": {},
   "outputs": [
    {
     "name": "stdout",
     "output_type": "stream",
     "text": [
      "X2 >= 0.201829\n",
      "  Leaf: Class 1\n",
      "  Leaf: Class 0\n"
     ]
    },
    {
     "data": {
      "text/plain": [
       "3"
      ]
     },
     "execution_count": 13,
     "metadata": {},
     "output_type": "execute_result"
    }
   ],
   "source": [
    "file = \"\\HW2 data\\D1.txt\"\n",
    "path = os.getcwd()+file\n",
    "D1 = np.loadtxt(path)\n",
    "\n",
    "Y=D1[:,2]\n",
    "X=D1[:,0:2]\n",
    "\n",
    "clf = DecisionTree()\n",
    "clf.fit(X, Y)\n",
    "clf.visualize_tree()\n",
    "\n",
    "visualize_decision_tree_graphviz(clf, file_name='hw2.2.5.1_graph')"
   ]
  },
  {
   "cell_type": "markdown",
   "id": "9255f4de",
   "metadata": {},
   "source": [
    "## Q 2.5.3 & 2.5.4 "
   ]
  },
  {
   "cell_type": "code",
   "execution_count": 11,
   "id": "21d6233a",
   "metadata": {},
   "outputs": [
    {
     "name": "stdout",
     "output_type": "stream",
     "text": [
      "X1 >= 0.533076\n",
      "  X2 >= 0.228007\n",
      "    X2 >= 0.424906\n",
      "      Leaf: Class 1\n",
      "      X1 >= 0.708127\n",
      "        Leaf: Class 1\n",
      "        X2 >= 0.32625\n",
      "          X1 >= 0.595471\n",
      "            X1 >= 0.646007\n",
      "              Leaf: Class 1\n",
      "              X2 >= 0.403494\n",
      "                Leaf: Class 1\n",
      "                Leaf: Class 0\n",
      "            Leaf: Class 0\n",
      "          Leaf: Class 0\n",
      "    X1 >= 0.887224\n",
      "      X2 >= 0.037708\n",
      "        X2 >= 0.082895\n",
      "          Leaf: Class 1\n",
      "          X1 >= 0.960783\n",
      "            Leaf: Class 1\n",
      "            Leaf: Class 0\n",
      "        Leaf: Class 0\n",
      "      X1 >= 0.850316\n",
      "        X2 >= 0.169053\n",
      "          Leaf: Class 1\n",
      "          Leaf: Class 0\n",
      "        Leaf: Class 0\n",
      "  X2 >= 0.88635\n",
      "    X1 >= 0.041245\n",
      "      X1 >= 0.104043\n",
      "        Leaf: Class 1\n",
      "        X1 >= 0.07642\n",
      "          Leaf: Class 0\n",
      "          Leaf: Class 1\n",
      "      Leaf: Class 0\n",
      "    X2 >= 0.691474\n",
      "      X1 >= 0.254049\n",
      "        Leaf: Class 1\n",
      "        X1 >= 0.191915\n",
      "          X2 >= 0.792752\n",
      "            Leaf: Class 1\n",
      "            Leaf: Class 0\n",
      "          X2 >= 0.864128\n",
      "            X1 >= 0.144781\n",
      "              Leaf: Class 1\n",
      "              Leaf: Class 0\n",
      "            Leaf: Class 0\n",
      "      X2 >= 0.534979\n",
      "        X1 >= 0.426073\n",
      "          Leaf: Class 1\n",
      "          X1 >= 0.409972\n",
      "            X1 >= 0.417579\n",
      "              Leaf: Class 0\n",
      "              Leaf: Class 1\n",
      "            X1 >= 0.393227\n",
      "              X1 >= 0.39583\n",
      "                Leaf: Class 0\n",
      "                Leaf: Class 1\n",
      "              Leaf: Class 0\n",
      "        Leaf: Class 0\n"
     ]
    }
   ],
   "source": [
    "file = \"\\HW2 data\\D2.txt\"\n",
    "path = os.getcwd()+file\n",
    "D2 = np.loadtxt(path)\n",
    "\n",
    "Y=D2[:,2]\n",
    "X=D2[:,0:2]\n",
    "\n",
    "clf = DecisionTree()\n",
    "clf.fit(X, Y)\n",
    "clf.visualize_tree()\n",
    "visualize_decision_tree_graphviz(clf, file_name='hw2.2.5.2_graph')"
   ]
  },
  {
   "cell_type": "code",
   "execution_count": null,
   "id": "d671f70b",
   "metadata": {},
   "outputs": [],
   "source": []
  }
 ],
 "metadata": {
  "kernelspec": {
   "display_name": "Python 3 (ipykernel)",
   "language": "python",
   "name": "python3"
  },
  "language_info": {
   "codemirror_mode": {
    "name": "ipython",
    "version": 3
   },
   "file_extension": ".py",
   "mimetype": "text/x-python",
   "name": "python",
   "nbconvert_exporter": "python",
   "pygments_lexer": "ipython3",
   "version": "3.9.13"
  }
 },
 "nbformat": 4,
 "nbformat_minor": 5
}
